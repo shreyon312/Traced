{
 "cells": [
  {
   "cell_type": "code",
   "execution_count": 99,
   "id": "45ade3e6",
   "metadata": {},
   "outputs": [],
   "source": [
    "import pandas as pd\n",
    "import matplotlib.pyplot as plt\n",
    "from sklearn.linear_model import LinearRegression\n",
    "from sklearn import linear_model\n",
    "import numpy as np\n",
    "import seaborn as sns"
   ]
  },
  {
   "cell_type": "code",
   "execution_count": 100,
   "id": "ffe7420f",
   "metadata": {},
   "outputs": [],
   "source": [
    "df = pd.read_csv(\"IBD_Diseases.csv\")"
   ]
  },
  {
   "cell_type": "code",
   "execution_count": 101,
   "id": "f0dd5de0",
   "metadata": {},
   "outputs": [
    {
     "data": {
      "text/html": [
       "<div>\n",
       "<style scoped>\n",
       "    .dataframe tbody tr th:only-of-type {\n",
       "        vertical-align: middle;\n",
       "    }\n",
       "\n",
       "    .dataframe tbody tr th {\n",
       "        vertical-align: top;\n",
       "    }\n",
       "\n",
       "    .dataframe thead th {\n",
       "        text-align: right;\n",
       "    }\n",
       "</style>\n",
       "<table border=\"1\" class=\"dataframe\">\n",
       "  <thead>\n",
       "    <tr style=\"text-align: right;\">\n",
       "      <th></th>\n",
       "      <th>Condition</th>\n",
       "      <th>Mg</th>\n",
       "      <th>S</th>\n",
       "      <th>Fe</th>\n",
       "      <th>Zn</th>\n",
       "      <th>Ca</th>\n",
       "    </tr>\n",
       "  </thead>\n",
       "  <tbody>\n",
       "    <tr>\n",
       "      <th>0</th>\n",
       "      <td>1</td>\n",
       "      <td>0.15</td>\n",
       "      <td>0.42000</td>\n",
       "      <td>0.3780</td>\n",
       "      <td>0.273</td>\n",
       "      <td>16.700</td>\n",
       "    </tr>\n",
       "    <tr>\n",
       "      <th>1</th>\n",
       "      <td>1</td>\n",
       "      <td>0.12</td>\n",
       "      <td>0.25000</td>\n",
       "      <td>0.2000</td>\n",
       "      <td>0.190</td>\n",
       "      <td>16.475</td>\n",
       "    </tr>\n",
       "    <tr>\n",
       "      <th>2</th>\n",
       "      <td>1</td>\n",
       "      <td>0.10</td>\n",
       "      <td>0.12500</td>\n",
       "      <td>0.1625</td>\n",
       "      <td>0.175</td>\n",
       "      <td>16.250</td>\n",
       "    </tr>\n",
       "    <tr>\n",
       "      <th>3</th>\n",
       "      <td>1</td>\n",
       "      <td>0.08</td>\n",
       "      <td>0.06250</td>\n",
       "      <td>0.1250</td>\n",
       "      <td>0.130</td>\n",
       "      <td>16.025</td>\n",
       "    </tr>\n",
       "    <tr>\n",
       "      <th>4</th>\n",
       "      <td>1</td>\n",
       "      <td>0.04</td>\n",
       "      <td>0.03125</td>\n",
       "      <td>0.0250</td>\n",
       "      <td>0.075</td>\n",
       "      <td>15.800</td>\n",
       "    </tr>\n",
       "  </tbody>\n",
       "</table>\n",
       "</div>"
      ],
      "text/plain": [
       "   Condition    Mg        S      Fe     Zn      Ca\n",
       "0          1  0.15  0.42000  0.3780  0.273  16.700\n",
       "1          1  0.12  0.25000  0.2000  0.190  16.475\n",
       "2          1  0.10  0.12500  0.1625  0.175  16.250\n",
       "3          1  0.08  0.06250  0.1250  0.130  16.025\n",
       "4          1  0.04  0.03125  0.0250  0.075  15.800"
      ]
     },
     "execution_count": 101,
     "metadata": {},
     "output_type": "execute_result"
    }
   ],
   "source": [
    "df.head()"
   ]
  },
  {
   "cell_type": "code",
   "execution_count": 102,
   "id": "89751e6d",
   "metadata": {},
   "outputs": [
    {
     "data": {
      "text/html": [
       "<div>\n",
       "<style scoped>\n",
       "    .dataframe tbody tr th:only-of-type {\n",
       "        vertical-align: middle;\n",
       "    }\n",
       "\n",
       "    .dataframe tbody tr th {\n",
       "        vertical-align: top;\n",
       "    }\n",
       "\n",
       "    .dataframe thead th {\n",
       "        text-align: right;\n",
       "    }\n",
       "</style>\n",
       "<table border=\"1\" class=\"dataframe\">\n",
       "  <thead>\n",
       "    <tr style=\"text-align: right;\">\n",
       "      <th></th>\n",
       "      <th>Condition</th>\n",
       "      <th>Mg</th>\n",
       "      <th>S</th>\n",
       "      <th>Fe</th>\n",
       "      <th>Zn</th>\n",
       "      <th>Ca</th>\n",
       "    </tr>\n",
       "  </thead>\n",
       "  <tbody>\n",
       "    <tr>\n",
       "      <th>0</th>\n",
       "      <td>1</td>\n",
       "      <td>0.150</td>\n",
       "      <td>0.42000</td>\n",
       "      <td>0.37800</td>\n",
       "      <td>0.2730</td>\n",
       "      <td>16.700000</td>\n",
       "    </tr>\n",
       "    <tr>\n",
       "      <th>1</th>\n",
       "      <td>1</td>\n",
       "      <td>0.120</td>\n",
       "      <td>0.25000</td>\n",
       "      <td>0.20000</td>\n",
       "      <td>0.1900</td>\n",
       "      <td>16.475000</td>\n",
       "    </tr>\n",
       "    <tr>\n",
       "      <th>2</th>\n",
       "      <td>1</td>\n",
       "      <td>0.100</td>\n",
       "      <td>0.12500</td>\n",
       "      <td>0.16250</td>\n",
       "      <td>0.1750</td>\n",
       "      <td>16.250000</td>\n",
       "    </tr>\n",
       "    <tr>\n",
       "      <th>3</th>\n",
       "      <td>1</td>\n",
       "      <td>0.080</td>\n",
       "      <td>0.06250</td>\n",
       "      <td>0.12500</td>\n",
       "      <td>0.1300</td>\n",
       "      <td>16.025000</td>\n",
       "    </tr>\n",
       "    <tr>\n",
       "      <th>4</th>\n",
       "      <td>1</td>\n",
       "      <td>0.040</td>\n",
       "      <td>0.03125</td>\n",
       "      <td>0.02500</td>\n",
       "      <td>0.0750</td>\n",
       "      <td>15.800000</td>\n",
       "    </tr>\n",
       "    <tr>\n",
       "      <th>5</th>\n",
       "      <td>2</td>\n",
       "      <td>0.090</td>\n",
       "      <td>5.15000</td>\n",
       "      <td>0.15000</td>\n",
       "      <td>0.2500</td>\n",
       "      <td>1.246000</td>\n",
       "    </tr>\n",
       "    <tr>\n",
       "      <th>6</th>\n",
       "      <td>2</td>\n",
       "      <td>0.085</td>\n",
       "      <td>4.15000</td>\n",
       "      <td>0.11500</td>\n",
       "      <td>0.1855</td>\n",
       "      <td>0.623000</td>\n",
       "    </tr>\n",
       "    <tr>\n",
       "      <th>7</th>\n",
       "      <td>2</td>\n",
       "      <td>0.070</td>\n",
       "      <td>3.93000</td>\n",
       "      <td>0.09000</td>\n",
       "      <td>0.1625</td>\n",
       "      <td>0.311500</td>\n",
       "    </tr>\n",
       "    <tr>\n",
       "      <th>8</th>\n",
       "      <td>2</td>\n",
       "      <td>0.045</td>\n",
       "      <td>3.52000</td>\n",
       "      <td>0.06250</td>\n",
       "      <td>0.1325</td>\n",
       "      <td>0.030000</td>\n",
       "    </tr>\n",
       "    <tr>\n",
       "      <th>9</th>\n",
       "      <td>2</td>\n",
       "      <td>0.030</td>\n",
       "      <td>3.07000</td>\n",
       "      <td>0.04200</td>\n",
       "      <td>0.0675</td>\n",
       "      <td>0.000000</td>\n",
       "    </tr>\n",
       "    <tr>\n",
       "      <th>10</th>\n",
       "      <td>3</td>\n",
       "      <td>0.170</td>\n",
       "      <td>4.78000</td>\n",
       "      <td>0.15000</td>\n",
       "      <td>0.2500</td>\n",
       "      <td>0.311500</td>\n",
       "    </tr>\n",
       "    <tr>\n",
       "      <th>11</th>\n",
       "      <td>3</td>\n",
       "      <td>0.100</td>\n",
       "      <td>4.17000</td>\n",
       "      <td>0.10000</td>\n",
       "      <td>0.1875</td>\n",
       "      <td>0.233625</td>\n",
       "    </tr>\n",
       "    <tr>\n",
       "      <th>12</th>\n",
       "      <td>3</td>\n",
       "      <td>0.070</td>\n",
       "      <td>4.00000</td>\n",
       "      <td>0.08125</td>\n",
       "      <td>0.1500</td>\n",
       "      <td>0.155750</td>\n",
       "    </tr>\n",
       "    <tr>\n",
       "      <th>13</th>\n",
       "      <td>3</td>\n",
       "      <td>0.050</td>\n",
       "      <td>3.54000</td>\n",
       "      <td>0.05000</td>\n",
       "      <td>0.1375</td>\n",
       "      <td>0.077875</td>\n",
       "    </tr>\n",
       "    <tr>\n",
       "      <th>14</th>\n",
       "      <td>3</td>\n",
       "      <td>0.025</td>\n",
       "      <td>2.67000</td>\n",
       "      <td>0.04400</td>\n",
       "      <td>0.0845</td>\n",
       "      <td>0.000000</td>\n",
       "    </tr>\n",
       "  </tbody>\n",
       "</table>\n",
       "</div>"
      ],
      "text/plain": [
       "    Condition     Mg        S       Fe      Zn         Ca\n",
       "0           1  0.150  0.42000  0.37800  0.2730  16.700000\n",
       "1           1  0.120  0.25000  0.20000  0.1900  16.475000\n",
       "2           1  0.100  0.12500  0.16250  0.1750  16.250000\n",
       "3           1  0.080  0.06250  0.12500  0.1300  16.025000\n",
       "4           1  0.040  0.03125  0.02500  0.0750  15.800000\n",
       "5           2  0.090  5.15000  0.15000  0.2500   1.246000\n",
       "6           2  0.085  4.15000  0.11500  0.1855   0.623000\n",
       "7           2  0.070  3.93000  0.09000  0.1625   0.311500\n",
       "8           2  0.045  3.52000  0.06250  0.1325   0.030000\n",
       "9           2  0.030  3.07000  0.04200  0.0675   0.000000\n",
       "10          3  0.170  4.78000  0.15000  0.2500   0.311500\n",
       "11          3  0.100  4.17000  0.10000  0.1875   0.233625\n",
       "12          3  0.070  4.00000  0.08125  0.1500   0.155750\n",
       "13          3  0.050  3.54000  0.05000  0.1375   0.077875\n",
       "14          3  0.025  2.67000  0.04400  0.0845   0.000000"
      ]
     },
     "execution_count": 102,
     "metadata": {},
     "output_type": "execute_result"
    }
   ],
   "source": [
    "df"
   ]
  },
  {
   "cell_type": "code",
   "execution_count": 103,
   "id": "dfa4435e",
   "metadata": {},
   "outputs": [
    {
     "name": "stdout",
     "output_type": "stream",
     "text": [
      "<class 'pandas.core.frame.DataFrame'>\n",
      "RangeIndex: 15 entries, 0 to 14\n",
      "Data columns (total 6 columns):\n",
      " #   Column     Non-Null Count  Dtype  \n",
      "---  ------     --------------  -----  \n",
      " 0   Condition  15 non-null     int64  \n",
      " 1   Mg         15 non-null     float64\n",
      " 2   S          15 non-null     float64\n",
      " 3   Fe         15 non-null     float64\n",
      " 4   Zn         15 non-null     float64\n",
      " 5   Ca         15 non-null     float64\n",
      "dtypes: float64(5), int64(1)\n",
      "memory usage: 848.0 bytes\n"
     ]
    }
   ],
   "source": [
    "df.info()"
   ]
  },
  {
   "cell_type": "code",
   "execution_count": 104,
   "id": "a185b281",
   "metadata": {},
   "outputs": [
    {
     "data": {
      "text/plain": [
       "LogisticRegression()"
      ]
     },
     "execution_count": 104,
     "metadata": {},
     "output_type": "execute_result"
    }
   ],
   "source": [
    "Xval = df.drop(\"Condition\", axis = 1)\n",
    "Yval = df[\"Condition\"]\n",
    "logreg = linear_model.LogisticRegression()\n",
    "logreg.fit(Xval, Yval)"
   ]
  },
  {
   "cell_type": "code",
   "execution_count": 105,
   "id": "49e739db",
   "metadata": {},
   "outputs": [
    {
     "data": {
      "text/plain": [
       "0     1\n",
       "1     1\n",
       "2     1\n",
       "3     1\n",
       "4     1\n",
       "5     2\n",
       "6     2\n",
       "7     2\n",
       "8     2\n",
       "9     2\n",
       "10    3\n",
       "11    3\n",
       "12    3\n",
       "13    3\n",
       "14    3\n",
       "Name: Condition, dtype: int64"
      ]
     },
     "execution_count": 105,
     "metadata": {},
     "output_type": "execute_result"
    }
   ],
   "source": [
    "Yval"
   ]
  },
  {
   "cell_type": "code",
   "execution_count": 106,
   "id": "199d62f4",
   "metadata": {},
   "outputs": [
    {
     "data": {
      "text/html": [
       "<div>\n",
       "<style scoped>\n",
       "    .dataframe tbody tr th:only-of-type {\n",
       "        vertical-align: middle;\n",
       "    }\n",
       "\n",
       "    .dataframe tbody tr th {\n",
       "        vertical-align: top;\n",
       "    }\n",
       "\n",
       "    .dataframe thead th {\n",
       "        text-align: right;\n",
       "    }\n",
       "</style>\n",
       "<table border=\"1\" class=\"dataframe\">\n",
       "  <thead>\n",
       "    <tr style=\"text-align: right;\">\n",
       "      <th></th>\n",
       "      <th>Mg</th>\n",
       "      <th>S</th>\n",
       "      <th>Fe</th>\n",
       "      <th>Zn</th>\n",
       "      <th>Ca</th>\n",
       "    </tr>\n",
       "  </thead>\n",
       "  <tbody>\n",
       "    <tr>\n",
       "      <th>0</th>\n",
       "      <td>0.150</td>\n",
       "      <td>0.42000</td>\n",
       "      <td>0.37800</td>\n",
       "      <td>0.2730</td>\n",
       "      <td>16.700000</td>\n",
       "    </tr>\n",
       "    <tr>\n",
       "      <th>1</th>\n",
       "      <td>0.120</td>\n",
       "      <td>0.25000</td>\n",
       "      <td>0.20000</td>\n",
       "      <td>0.1900</td>\n",
       "      <td>16.475000</td>\n",
       "    </tr>\n",
       "    <tr>\n",
       "      <th>2</th>\n",
       "      <td>0.100</td>\n",
       "      <td>0.12500</td>\n",
       "      <td>0.16250</td>\n",
       "      <td>0.1750</td>\n",
       "      <td>16.250000</td>\n",
       "    </tr>\n",
       "    <tr>\n",
       "      <th>3</th>\n",
       "      <td>0.080</td>\n",
       "      <td>0.06250</td>\n",
       "      <td>0.12500</td>\n",
       "      <td>0.1300</td>\n",
       "      <td>16.025000</td>\n",
       "    </tr>\n",
       "    <tr>\n",
       "      <th>4</th>\n",
       "      <td>0.040</td>\n",
       "      <td>0.03125</td>\n",
       "      <td>0.02500</td>\n",
       "      <td>0.0750</td>\n",
       "      <td>15.800000</td>\n",
       "    </tr>\n",
       "    <tr>\n",
       "      <th>5</th>\n",
       "      <td>0.090</td>\n",
       "      <td>5.15000</td>\n",
       "      <td>0.15000</td>\n",
       "      <td>0.2500</td>\n",
       "      <td>1.246000</td>\n",
       "    </tr>\n",
       "    <tr>\n",
       "      <th>6</th>\n",
       "      <td>0.085</td>\n",
       "      <td>4.15000</td>\n",
       "      <td>0.11500</td>\n",
       "      <td>0.1855</td>\n",
       "      <td>0.623000</td>\n",
       "    </tr>\n",
       "    <tr>\n",
       "      <th>7</th>\n",
       "      <td>0.070</td>\n",
       "      <td>3.93000</td>\n",
       "      <td>0.09000</td>\n",
       "      <td>0.1625</td>\n",
       "      <td>0.311500</td>\n",
       "    </tr>\n",
       "    <tr>\n",
       "      <th>8</th>\n",
       "      <td>0.045</td>\n",
       "      <td>3.52000</td>\n",
       "      <td>0.06250</td>\n",
       "      <td>0.1325</td>\n",
       "      <td>0.030000</td>\n",
       "    </tr>\n",
       "    <tr>\n",
       "      <th>9</th>\n",
       "      <td>0.030</td>\n",
       "      <td>3.07000</td>\n",
       "      <td>0.04200</td>\n",
       "      <td>0.0675</td>\n",
       "      <td>0.000000</td>\n",
       "    </tr>\n",
       "    <tr>\n",
       "      <th>10</th>\n",
       "      <td>0.170</td>\n",
       "      <td>4.78000</td>\n",
       "      <td>0.15000</td>\n",
       "      <td>0.2500</td>\n",
       "      <td>0.311500</td>\n",
       "    </tr>\n",
       "    <tr>\n",
       "      <th>11</th>\n",
       "      <td>0.100</td>\n",
       "      <td>4.17000</td>\n",
       "      <td>0.10000</td>\n",
       "      <td>0.1875</td>\n",
       "      <td>0.233625</td>\n",
       "    </tr>\n",
       "    <tr>\n",
       "      <th>12</th>\n",
       "      <td>0.070</td>\n",
       "      <td>4.00000</td>\n",
       "      <td>0.08125</td>\n",
       "      <td>0.1500</td>\n",
       "      <td>0.155750</td>\n",
       "    </tr>\n",
       "    <tr>\n",
       "      <th>13</th>\n",
       "      <td>0.050</td>\n",
       "      <td>3.54000</td>\n",
       "      <td>0.05000</td>\n",
       "      <td>0.1375</td>\n",
       "      <td>0.077875</td>\n",
       "    </tr>\n",
       "    <tr>\n",
       "      <th>14</th>\n",
       "      <td>0.025</td>\n",
       "      <td>2.67000</td>\n",
       "      <td>0.04400</td>\n",
       "      <td>0.0845</td>\n",
       "      <td>0.000000</td>\n",
       "    </tr>\n",
       "  </tbody>\n",
       "</table>\n",
       "</div>"
      ],
      "text/plain": [
       "       Mg        S       Fe      Zn         Ca\n",
       "0   0.150  0.42000  0.37800  0.2730  16.700000\n",
       "1   0.120  0.25000  0.20000  0.1900  16.475000\n",
       "2   0.100  0.12500  0.16250  0.1750  16.250000\n",
       "3   0.080  0.06250  0.12500  0.1300  16.025000\n",
       "4   0.040  0.03125  0.02500  0.0750  15.800000\n",
       "5   0.090  5.15000  0.15000  0.2500   1.246000\n",
       "6   0.085  4.15000  0.11500  0.1855   0.623000\n",
       "7   0.070  3.93000  0.09000  0.1625   0.311500\n",
       "8   0.045  3.52000  0.06250  0.1325   0.030000\n",
       "9   0.030  3.07000  0.04200  0.0675   0.000000\n",
       "10  0.170  4.78000  0.15000  0.2500   0.311500\n",
       "11  0.100  4.17000  0.10000  0.1875   0.233625\n",
       "12  0.070  4.00000  0.08125  0.1500   0.155750\n",
       "13  0.050  3.54000  0.05000  0.1375   0.077875\n",
       "14  0.025  2.67000  0.04400  0.0845   0.000000"
      ]
     },
     "execution_count": 106,
     "metadata": {},
     "output_type": "execute_result"
    }
   ],
   "source": [
    "Xval"
   ]
  },
  {
   "cell_type": "code",
   "execution_count": 107,
   "id": "d25420ec",
   "metadata": {},
   "outputs": [],
   "source": [
    "y_pred = logreg.predict(Xval)"
   ]
  },
  {
   "cell_type": "code",
   "execution_count": 108,
   "id": "34bf2719",
   "metadata": {},
   "outputs": [
    {
     "data": {
      "text/plain": [
       "array([1, 1, 1, 1, 1, 2, 2, 2, 3, 3, 2, 3, 3, 3, 3], dtype=int64)"
      ]
     },
     "execution_count": 108,
     "metadata": {},
     "output_type": "execute_result"
    }
   ],
   "source": [
    "y_pred"
   ]
  },
  {
   "cell_type": "code",
   "execution_count": 109,
   "id": "d21cfef2",
   "metadata": {},
   "outputs": [
    {
     "data": {
      "text/plain": [
       "1"
      ]
     },
     "execution_count": 109,
     "metadata": {},
     "output_type": "execute_result"
    }
   ],
   "source": [
    "y_pred[4]"
   ]
  },
  {
   "cell_type": "code",
   "execution_count": 110,
   "id": "1fdb040c",
   "metadata": {},
   "outputs": [
    {
     "data": {
      "text/plain": [
       "<AxesSubplot:xlabel='Mg', ylabel='Condition'>"
      ]
     },
     "execution_count": 110,
     "metadata": {},
     "output_type": "execute_result"
    },
    {
     "data": {
      "image/png": "[encoded data removed]",
      "text/plain": [
       "<Figure size 640x480 with 1 Axes>"
      ]
     },
     "metadata": {},
     "output_type": "display_data"
    }
   ],
   "source": [
    "sns.regplot(x=df[\"Mg\"], y=Yval, data=df, logistic=True, ci=None)"
   ]
  },
  {
   "cell_type": "code",
   "execution_count": 111,
   "id": "09944bec",
   "metadata": {},
   "outputs": [
    {
     "data": {
      "text/plain": [
       "<AxesSubplot:xlabel='S', ylabel='Condition'>"
      ]
     },
     "execution_count": 111,
     "metadata": {},
     "output_type": "execute_result"
    },
    {
     "data": {
      "image/png": "[encoded data removed]",
      "text/plain": [
       "<Figure size 640x480 with 1 Axes>"
      ]
     },
     "metadata": {},
     "output_type": "display_data"
    }
   ],
   "source": [
    "sns.regplot(x=df[\"S\"], y=Yval, data=df, logistic=True, ci=None)"
   ]
  },
  {
   "cell_type": "code",
   "execution_count": 112,
   "id": "94b03531",
   "metadata": {},
   "outputs": [
    {
     "data": {
      "text/plain": [
       "<AxesSubplot:xlabel='Fe', ylabel='Condition'>"
      ]
     },
     "execution_count": 112,
     "metadata": {},
     "output_type": "execute_result"
    },
    {
     "data": {
      "image/png": "[encoded data removed]",
      "text/plain": [
       "<Figure size 640x480 with 1 Axes>"
      ]
     },
     "metadata": {},
     "output_type": "display_data"
    }
   ],
   "source": [
    "sns.regplot(x=df[\"Fe\"], y=Yval, data=df, logistic=True, ci=None)"
   ]
  },
  {
   "cell_type": "code",
   "execution_count": 113,
   "id": "c614e810",
   "metadata": {},
   "outputs": [
    {
     "name": "stderr",
     "output_type": "stream",
     "text": [
      "C:\\Users\\shrey\\anaconda3\\lib\\site-packages\\statsmodels\\genmod\\families\\links.py:187: RuntimeWarning: overflow encountered in exp\n",
      "  t = np.exp(-z)\n"
     ]
    },
    {
     "data": {
      "text/plain": [
       "<AxesSubplot:xlabel='Zn', ylabel='Condition'>"
      ]
     },
     "execution_count": 113,
     "metadata": {},
     "output_type": "execute_result"
    },
    {
     "data": {
      "image/png": "[encoded data removed]",
      "text/plain": [
       "<Figure size 640x480 with 1 Axes>"
      ]
     },
     "metadata": {},
     "output_type": "display_data"
    }
   ],
   "source": [
    "sns.regplot(x=df[\"Zn\"], y=Yval, data=df, logistic=True, ci=None)"
   ]
  },
  {
   "cell_type": "code",
   "execution_count": 114,
   "id": "6f6abfda",
   "metadata": {},
   "outputs": [
    {
     "data": {
      "text/plain": [
       "<AxesSubplot:xlabel='Ca', ylabel='Condition'>"
      ]
     },
     "execution_count": 114,
     "metadata": {},
     "output_type": "execute_result"
    },
    {
     "data": {
      "image/png": "[encoded data removed]",
      "text/plain": [
       "<Figure size 640x480 with 1 Axes>"
      ]
     },
     "metadata": {},
     "output_type": "display_data"
    }
   ],
   "source": [
    "sns.regplot(x=df[\"Ca\"], y=Yval, data=df, logistic=True, ci=None)"
   ]
  },
  {
   "cell_type": "code",
   "execution_count": null,
   "id": "1144dd28",
   "metadata": {},
   "outputs": [],
   "source": []
  }
 ],
 "metadata": {
  "kernelspec": {
   "display_name": "Python 3 (ipykernel)",
   "language": "python",
   "name": "python3"
  },
  "language_info": {
   "codemirror_mode": {
    "name": "ipython",
    "version": 3
   },
   "file_extension": ".py",
   "mimetype": "text/x-python",
   "name": "python",
   "nbconvert_exporter": "python",
   "pygments_lexer": "ipython3",
   "version": "3.9.13"
  }
 },
 "nbformat": 4,
 "nbformat_minor": 5
}
